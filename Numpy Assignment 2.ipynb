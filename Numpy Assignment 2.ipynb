{
 "cells": [
  {
   "cell_type": "code",
   "execution_count": 1,
   "id": "546ab592",
   "metadata": {},
   "outputs": [],
   "source": [
    "# Importing numpy \n",
    "import numpy as np"
   ]
  },
  {
   "cell_type": "code",
   "execution_count": 2,
   "id": "1d71ad9e",
   "metadata": {},
   "outputs": [
    {
     "name": "stdout",
     "output_type": "stream",
     "text": [
      "[1 2 3 4 5]\n",
      "[[1 2 3]\n",
      " [4 5 6]]\n",
      "[[0. 0. 0. 0.]\n",
      " [0. 0. 0. 0.]\n",
      " [0. 0. 0. 0.]]\n",
      "[[1. 1.]\n",
      " [1. 1.]]\n"
     ]
    }
   ],
   "source": [
    "#Creating Numpy arrays\n",
    "# create a 1-dimensional array \n",
    "a = np.array([1, 2, 3, 4, 5]) \n",
    "print(a)\n",
    "\n",
    "# create a 2-dimensional array \n",
    "b = np.array([[1, 2, 3], [4, 5, 6]]) \n",
    "print(b)\n",
    "\n",
    "# create an array of zeros \n",
    "c = np.zeros((3, 4)) \n",
    "print(c)\n",
    "\n",
    "# create an array of ones \n",
    "d = np.ones((2, 2)) \n",
    "print(d)"
   ]
  },
  {
   "cell_type": "code",
   "execution_count": 6,
   "id": "dfd96350",
   "metadata": {},
   "outputs": [
    {
     "name": "stdout",
     "output_type": "stream",
     "text": [
      "[5 7 9]\n",
      "[[ 5 12]\n",
      " [21 32]]\n",
      "[[19 22]\n",
      " [43 50]]\n"
     ]
    }
   ],
   "source": [
    "#Performing mathematical operations on NumPy arrays\n",
    "#adding two arrays\n",
    "\n",
    "a=np.array([1, 2, 3])\n",
    "\n",
    "b= np.array([4, 5, 6])\n",
    "\n",
    "c=a+b\n",
    "\n",
    "print(c)\n",
    "\n",
    "#multiply two arrays\n",
    "\n",
    "d = np.array([[1, 2], [3, 4]]) \n",
    "e = np.array([[5, 6], [7, 8]])\n",
    "\n",
    "f=d*e\n",
    "\n",
    "print (f)\n",
    "\n",
    "# perform matrix multiplication\n",
    "\n",
    "g= np.array([[1, 2], [3, 4]])\n",
    "\n",
    "h = np.array([[5, 6], [7, 8]])\n",
    "\n",
    "i = np.dot(g, h)\n",
    "\n",
    "print(i)"
   ]
  },
  {
   "cell_type": "code",
   "execution_count": null,
   "id": "e55e35b3",
   "metadata": {},
   "outputs": [],
   "source": []
  }
 ],
 "metadata": {
  "kernelspec": {
   "display_name": "Python 3 (ipykernel)",
   "language": "python",
   "name": "python3"
  },
  "language_info": {
   "codemirror_mode": {
    "name": "ipython",
    "version": 3
   },
   "file_extension": ".py",
   "mimetype": "text/x-python",
   "name": "python",
   "nbconvert_exporter": "python",
   "pygments_lexer": "ipython3",
   "version": "3.9.12"
  }
 },
 "nbformat": 4,
 "nbformat_minor": 5
}
